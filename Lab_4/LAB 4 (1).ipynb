{
 "cells": [
  {
   "cell_type": "code",
   "execution_count": 48,
   "metadata": {},
   "outputs": [],
   "source": [
    "import sqlite3 as sql"
   ]
  },
  {
   "cell_type": "markdown",
   "metadata": {},
   "source": [
    "# 1. Create Database and 3 fundamental tables\n",
    "\n",
    "* command \"sql.connect()\" creates a new database file in a designated address.\n",
    "* use .cursor() to create a cursor.\n",
    "* use curson_name.execute() to execute SQLite syntax."
   ]
  },
  {
   "cell_type": "code",
   "execution_count": 49,
   "metadata": {},
   "outputs": [],
   "source": [
    "con = sql.connect(\"Enzyme_in_Pathway.db\")\n",
    "c = con.cursor()"
   ]
  },
  {
   "cell_type": "markdown",
   "metadata": {},
   "source": [
    "#### genes table has 10 column:\n",
    "1. id: Gene ID\n",
    "2. name: Gene's name\n",
    "3. description:\n",
    "4. organism: the species this gene belongs to\n",
    "5. nucleotide_sequence: record.seq\n",
    "6. chromosome: some items have no chromosome information, then insert \" NO information in NCBI\" (E.coli has no        chromosome)\n",
    "7. start: start position\n",
    "8. end: end position\n",
    "9. strand: 1/0\n",
    "10. translation: Protein sequence (Some items have no translation information, then insert \"No information in NCBI\")\n",
    "\n",
    "\n",
    "#### pathway table has 3 columns\n",
    "1. id: pathway id(KEGG format)\n",
    "2. name: pathway name\n",
    "3. description\n",
    "\n",
    "\n",
    "#### enzyme table has 3 columns\n",
    "1. name: enzyme's name (extracted from KEGG)\n",
    "2. function: extracted from KEGG\n",
    "3. EC_number: enzyme commission number\n",
    "\n",
    "# To illustrate how the tables look like, I used fetchone()  to get 1 item of each table at the end of this .ipython file.\n"
   ]
  },
  {
   "cell_type": "code",
   "execution_count": 50,
   "metadata": {},
   "outputs": [
    {
     "data": {
      "text/plain": [
       "<sqlite3.Cursor at 0x7f49b0e5f3b0>"
      ]
     },
     "execution_count": 50,
     "metadata": {},
     "output_type": "execute_result"
    }
   ],
   "source": [
    "c.execute(\"\"\"CREATE TABLE genes(id TEXT,\n",
    "                                 name TEXT,\n",
    "                                 description TEXT,\n",
    "                                 organism TEXT,\n",
    "                                 nucleotide_sequence TEXT,\n",
    "                                 chromosome TEXT,\n",
    "                                 start INT,\n",
    "                                 end INT,\n",
    "                                 strand VARCHAR(1),\n",
    "                                 translated_sequence TEXT);\"\"\")\n",
    "\n",
    "c.execute(\"\"\"CREATE TABLE pathway(id TEXT, \n",
    "                                  name TEXT,\n",
    "                                  description TEXT);\"\"\")\n",
    "\n",
    "c.execute(\"\"\"CREATE TABLE enzyme(name TEXT,\n",
    "                                 function TEXT,\n",
    "                                 EC_number TEXT);\"\"\")\n",
    "\n"
   ]
  },
  {
   "cell_type": "markdown",
   "metadata": {},
   "source": [
    "# 2. Create Associative Tables\n",
    "\n",
    "#### enzymes_in_pathways_with_order associative table has 3 columns\n",
    "##### this table indicates which pathway the enzymes beclong to, and an additional number is added to this table to show the order of enzyme in specified pathway.\n",
    "    1. EC_number: Enzyme Commission number\n",
    "    2. pathway_id: KEGG format\n",
    "    3. order_in_pathway: I selected first 4 enzyme for every pathway, so the order number are \"1,2,3,4\"\n",
    "    \n",
    "    \n",
    "##### genes_to_enzymes associative table has 2 columns, this table indicates which enzyme a paticular gene belongs to , the gene_id in this table is Gene ID(GI), the enzyme_id is EC_number.\n",
    "\n"
   ]
  },
  {
   "cell_type": "code",
   "execution_count": 51,
   "metadata": {},
   "outputs": [
    {
     "data": {
      "text/plain": [
       "<sqlite3.Cursor at 0x7f49b0e5f3b0>"
      ]
     },
     "execution_count": 51,
     "metadata": {},
     "output_type": "execute_result"
    }
   ],
   "source": [
    "c.execute(\"\"\"CREATE TABLE enzymes_in_pathways_with_order(EC_number TEXT,\n",
    "                                                         pathway_id TEXT,\n",
    "                                                         order_in_pathway INT);\"\"\")\n",
    "\n",
    "c.execute(\"\"\"CREATE TABLE genes_to_enzymes(gene_id INT,\n",
    "                                         enzyme_id TEXT);\"\"\")\n",
    "\n"
   ]
  },
  {
   "cell_type": "markdown",
   "metadata": {},
   "source": [
    "# Q&A about Associative tables:\n",
    "\n",
    "## enzymes_in_pathways_with_order associative table is a many-to-many relationship.\n",
    "\n",
    "## I added a column in enzymes and pathways table to indicate the order of enzyme in pathways\n",
    "\n",
    "## Genes_to_enzymes associative table is a many-to-many relationship"
   ]
  },
  {
   "cell_type": "markdown",
   "metadata": {},
   "source": [
    "# 3. Insert information of 3 pathway to pathway table\n",
    "\n",
    "## 1. Go to KEGG and search for 3 pathway. (with browser)\n",
    "* website address of glycolysis: https://www.genome.jp/dbget-bin/www_bget?map00010\n",
    "\n",
    "* website address of the citrate cycle : https://www.genome.jp/dbget-bin/www_bget?pathway+map00020\n",
    "\n",
    "* website address of the pentose phosphate : https://www.genome.jp/dbget-bin/www_bget?map00030\n",
    "\n",
    "## 2. Insert these pathway's ID (KEGG format), name and description to pathway table.\n"
   ]
  },
  {
   "cell_type": "code",
   "execution_count": 52,
   "metadata": {},
   "outputs": [],
   "source": [
    "c.execute(\"\"\"INSERT INTO pathway(id, name, description) VALUES(?,?,?)\"\"\", \n",
    "          (\"map00010\", \"Glycolysis\", \"Glycolysis is the process of converting glucose into pyruvate and generating small amounts of ATP (energy) and NADH (reducing power). It is a central pathway that produces important precursor metabolites: six-carbon compounds of glucose-6P and fructose-6P and three-carbon compounds of glycerone-P, glyceraldehyde-3P, glycerate-3P, phosphoenolpyruvate, and pyruvate [MD:M00001]. Acetyl-CoA, another important precursor metabolite, is produced by oxidative decarboxylation of pyruvate [MD:M00307]. When the enzyme genes of this pathway are examined in completely sequenced genomes, the reaction steps of three-carbon compounds from glycerone-P to pyruvate form a conserved core module [MD:M00002], which is found in almost all organisms and which sometimes contains operon structures in bacterial genomes. Gluconeogenesis is a synthesis pathway of glucose from noncarbohydrate precursors. It is essentially a reversal of glycolysis with minor variations of alternative paths [MD:M00003].\"))\n",
    "\n",
    "c.execute(\"\"\"INSERT INTO pathway(id, name, description) VALUES(?,?,?)\"\"\",\n",
    "          (\"map00020\", \"Citrate cycle\", \"The citrate cycle (TCA cycle, Krebs cycle) is an important aerobic pathway for the final steps of the oxidation of carbohydrates and fatty acids. The cycle starts with acetyl-CoA, the activated form of acetate, derived from glycolysis and pyruvate oxidation for carbohydrates and from beta oxidation of fatty acids. The two-carbon acetyl group in acetyl-CoA is transferred to the four-carbon compound of oxaloacetate to form the six-carbon compound of citrate. In a series of reactions two carbons in citrate are oxidized to CO2 and the reaction pathway supplies NADH for use in the oxidative phosphorylation and other metabolic processes. The pathway also supplies important precursor metabolites including 2-oxoglutarate. At the end of the cycle the remaining four-carbon part is transformed back to oxaloacetate. According to the genome sequence data, many organisms seem to lack genes for the full cycle [MD:M00009], but contain genes for specific segments [MD:M00010 M00011].\"))\n",
    "\n",
    "c.execute(\"\"\"INSERT INTO pathway(id, name, description) VALUES(?,?,?)\"\"\", \n",
    "          (\"map00030\", \"Pentose phosphate pathway\", \"The pentose phosphate pathway is a process of glucose turnover that produces NADPH as reducing equivalents and pentoses as essential parts of nucleotides. There are two different phases in the pathway. One is irreversible oxidative phase in which glucose-6P is converted to ribulose-5P by oxidative decarboxylation, and NADPH is generated [MD:M00006]. The other is reversible non-oxidative phase in which phosphorylated sugars are interconverted to generate xylulose-5P, ribulose-5P, and ribose-5P [MD:M00007]. Phosphoribosyl pyrophosphate (PRPP) formed from ribose-5P [MD:M00005] is an activated compound used in the biosynthesis of histidine and purine/pyrimidine nucleotides. This pathway map also shows the Entner-Doudoroff pathway where 6-P-gluconate is dehydrated and then cleaved into pyruvate and glyceraldehyde-3P [MD:M00008].\"))\n",
    "\n",
    "con.commit()\n"
   ]
  },
  {
   "cell_type": "markdown",
   "metadata": {},
   "source": [
    "# Q&A about Database\n",
    "\n",
    "## Q: Do you have any preference in UCSC, Entrez, KEGG, and Reactome.\n",
    "\n",
    "I prefer Entrez and KEGG, because I can use BioPython to extract datas from these two database.\n",
    "\n",
    "## Q: Which seems to be the most complete?\n",
    "\n",
    "I think Entrez is the most complete, because it is linked to NCBI, which is the most authority and complete biology database."
   ]
  },
  {
   "cell_type": "markdown",
   "metadata": {},
   "source": [
    "# 4. Insert Enzymes into table\n",
    "\n",
    "\n",
    "### Use Bio.KEGG.REST and Bio.KEGG.Enzyme\n",
    "\n",
    "\n",
    "1. Define a function named \"get_enzyme()\": its input is an EC_number of enzyme, and its output is the record of this enzyme found in KEGG database. This record has been interpreted by Enzyme.read()\n",
    "\n",
    "\n",
    "2. Define a function named \"insert_enzymes()\": its input is the record got from get_enzyme() function which holds information about a paticular enzyme. It doesn't have output, but it will insert information of enzyme into enzyme table in my database."
   ]
  },
  {
   "cell_type": "code",
   "execution_count": 53,
   "metadata": {},
   "outputs": [],
   "source": [
    "from Bio.KEGG import REST\n",
    "from Bio.KEGG.KGML import KGML_parser as ks\n",
    "from Bio.KEGG import Enzyme\n",
    "\n",
    "def get_enzymes(enzyme):\n",
    "    request = REST.kegg_get(enzyme)\n",
    "    record = Enzyme.read(request)\n",
    "    return record\n",
    "\n",
    "\n",
    "\n",
    "def insert_enzymes(record):\n",
    "    name = record.name[0]\n",
    "    EC_number = record.entry\n",
    "    function = record.comment\n",
    "    c.execute(\"\"\"INSERT INTO enzyme(name, function, EC_number) VALUES(?,?,?)\"\"\",\n",
    "             (str(name), str(function), str(EC_number)))\n",
    "    con.commit()\n"
   ]
  },
  {
   "cell_type": "markdown",
   "metadata": {},
   "source": [
    "### I got the list of enzymes in 3 pathway, then picked the first 4 of each list, the website links of whole list of enzymes are here:\n",
    "glycolysis enzymes: https://www.genome.jp/dbget-bin/get_linkdb?-t+enzyme+path:map00010"
   ]
  },
  {
   "cell_type": "markdown",
   "metadata": {},
   "source": [
    "### Use for loop to insert the enzymes' information which I picked into enzyme database (with functions get_enzyme() and insert_enzymes()"
   ]
  },
  {
   "cell_type": "code",
   "execution_count": 54,
   "metadata": {},
   "outputs": [],
   "source": [
    "enzyme_list1 = [\"1.1.1.1\", \n",
    "                \"1.1.1.2\", \n",
    "                \"1.1.1.27\",             \n",
    "                \"1.1.2.7\",]\n",
    "\n",
    "\n",
    "for i in range(0,len(enzyme_list1)):\n",
    "    insert_enzymes(get_enzymes(enzyme_list1[i]))\n",
    "    c.execute(\"\"\"INSERT INTO enzymes_in_pathways_with_order(EC_number, pathway_id, order_in_pathway) VALUES(?,?,?);\"\"\",\n",
    "             (str(enzyme_list1[i]), str(\"map00010\"), int(i+1)))\n"
   ]
  },
  {
   "cell_type": "markdown",
   "metadata": {},
   "source": [
    "TCA cycle enzymes: https://www.genome.jp/dbget-bin/get_linkdb?-t+enzyme+path:map00020"
   ]
  },
  {
   "cell_type": "code",
   "execution_count": 55,
   "metadata": {},
   "outputs": [],
   "source": [
    "enzyme_list2 = [\"1.1.1.286\",            \n",
    "                \"1.1.1.37\",          \n",
    "                \"1.1.1.41\",            \n",
    "                \"1.1.1.42\"]\n",
    "\n",
    "\n",
    "for i in range(0,len(enzyme_list2)):\n",
    "    insert_enzymes(get_enzymes(enzyme_list2[i]))\n",
    "    c.execute(\"\"\"INSERT INTO enzymes_in_pathways_with_order(EC_number, pathway_id, order_in_pathway) VALUES(?,?,?);\"\"\",\n",
    "             (str(enzyme_list2[i]), \"map00020\", int(i+1)))"
   ]
  },
  {
   "cell_type": "markdown",
   "metadata": {},
   "source": [
    "pentose phosphate pathway enzymes: https://www.genome.jp/dbget-bin/get_linkdb?-t+enzyme+path:map00030"
   ]
  },
  {
   "cell_type": "code",
   "execution_count": 56,
   "metadata": {},
   "outputs": [],
   "source": [
    "enzyme_list3 = [\"1.1.1.215\", \n",
    "                \"1.1.1.343\",          \n",
    "                \"1.1.1.359\",         \n",
    "                \"1.1.1.360\"]\n",
    "\n",
    "\n",
    "for i in range(0,len(enzyme_list3)):\n",
    "    insert_enzymes(get_enzymes(enzyme_list3[i]))\n",
    "    c.execute(\"\"\"INSERT INTO enzymes_in_pathways_with_order(EC_number, pathway_id, order_in_pathway) VALUES(?,?,?);\"\"\",\n",
    "             (str(enzyme_list3[i]), \"map00030\", int(i+1)))"
   ]
  },
  {
   "cell_type": "markdown",
   "metadata": {},
   "source": [
    "# Accessing enzymes' genes datas\n",
    "\n",
    "1. Define a custom function named \"search_for()\". In this function, I use .esearch() to search for all the nucleotides or genes related to a paticular enzyme, the search term is like this:\"species_name[ORGN] AND EC_number[ECNO]\"\n",
    "\n",
    "\n",
    "2. Define a custiom function named \"deal_genbank()\". In this function, I use .efetch() to get more complete information about an item. I got the \"genbank\" format of genes' information with SeqIO.read(). Then I extracted destinated information from genbank. (So that I call this function \"deal_genbank()\"), inserted them into genes table.\n",
    "\n",
    "\n",
    "3. In \"deal_genbank()\" function, I also insert EC_number and gene_number into associative table in my database. \"genes_to_enzymes\" table links enzymes and genes together.\n",
    "\n",
    "### Use time package, time.sleep() function to avoid http error (too many requests)\n"
   ]
  },
  {
   "cell_type": "code",
   "execution_count": 57,
   "metadata": {},
   "outputs": [],
   "source": [
    "def search_for(db,term1, species):\n",
    "    import time\n",
    "    from Bio import Entrez as ent\n",
    "    from Bio import SeqIO\n",
    "\n",
    "    ent.email = 'lijiaxiaoxiong42@berkeley.edu'\n",
    "    term1 = species + \"[ORGN]\" + ' ' + term1 + \"[ECNO]\"\n",
    "    handle = ent.esearch(db = db,\n",
    "                            term = term1,\n",
    "                            sort = 'relevant',\n",
    "                            idytpe = 'acc')\n",
    "    time.sleep(20)\n",
    "    return handle\n",
    "    "
   ]
  },
  {
   "cell_type": "code",
   "execution_count": 58,
   "metadata": {},
   "outputs": [],
   "source": [
    "def deal_genbank(handle, term1):\n",
    "    from Bio import Entrez as ent\n",
    "    from Bio import SeqIO\n",
    "    import time\n",
    "    k = 0\n",
    "    for i in ent.read(handle)['IdList']:\n",
    "        if(k <= 1):\n",
    "            handle = ent.efetch(db = 'nucleotide', id = i, rettype = 'gb', retmode = 'text',retmax = 1) \n",
    "            record = SeqIO.read(handle, \"genbank\")\n",
    "            handle.close()\n",
    "            print(i)\n",
    "            GI = i\n",
    "            name = record.name\n",
    "            description = record.description\n",
    "            organism = record.annotations[\"organism\"]\n",
    "        \n",
    "            #use SeqIO to read genbank format, the features are forming a dictionary called annotations.\n",
    "        \n",
    "            if \"chromosome\" in record.features[0].qualifiers.keys():\n",
    "                chromosome = record.features[0].qualifiers[\"chromosome\"]\n",
    "            else:\n",
    "                chromosome = \"No information in NCBI\"\n",
    "            \n",
    "            start = record.features[0].location.start\n",
    "            end = record.features[0].location.end\n",
    "            strand = record.features[0].location.strand\n",
    "            seq = record.seq\n",
    "            trans= ''\n",
    "        \n",
    "            for j in range(0,len(record.features)):\n",
    "                if record.features[j].type == \"CDS\":\n",
    "                    if \"translation\" in record.features[j].qualifiers.keys():\n",
    "                        trans = record.features[j].qualifiers[\"translation\"]\n",
    "                    else:\n",
    "                        trans = \"No infotmation in NCBI\"\n",
    "                \n",
    "            c.execute(\"\"\"INSERT INTO genes(id,name,description, organism, nucleotide_sequence, chromosome, start, end, strand, translated_sequence) VALUES (?,?,?,?,?,?,?,?,?,?);\"\"\", \n",
    "                      (int(i), str(name), str(description),str(organism), str(seq), str(chromosome),int(start), int(end), int(strand), str(trans)))\n",
    "        \n",
    "            c.execute(\"\"\"INSERT INTO genes_to_enzymes(gene_id, enzyme_id) VALUES(?,?);\"\"\",\n",
    "                     (int(i),str(term1)))\n",
    "            con.commit()\n",
    "            k = k + 1\n",
    "            time.sleep(1)\n",
    "    return handle\n",
    "    "
   ]
  },
  {
   "cell_type": "markdown",
   "metadata": {},
   "source": [
    "### Define a custom function to search for particular enzyme of particular species"
   ]
  },
  {
   "cell_type": "code",
   "execution_count": 59,
   "metadata": {},
   "outputs": [],
   "source": [
    "def generate(enzyme, species):\n",
    "    record = get_enzymes(enzyme)\n",
    "    term1 = record.entry\n",
    "    deal_genbank(search_for(\"nucleotide\", term1, species), term1)\n",
    "    "
   ]
  },
  {
   "cell_type": "markdown",
   "metadata": {},
   "source": [
    "### Use for loop to go through all of the enzymes in enzymes_list and all 3 species"
   ]
  },
  {
   "cell_type": "markdown",
   "metadata": {},
   "source": [
    "### the printed numbers are Gene ID of genes in the genes table, there are repeat items because 1 gene may belong to several different enzymes. And because I search for genes in nucleotide database, so the items here are actually transcripts. "
   ]
  },
  {
   "cell_type": "code",
   "execution_count": 60,
   "metadata": {
    "scrolled": false
   },
   "outputs": [
    {
     "name": "stdout",
     "output_type": "stream",
     "text": [
      "1675044213\n",
      "1519313429\n",
      "1677502075\n",
      "320202987\n",
      "937827787\n",
      "207028521\n",
      "1676440427\n",
      "1676439537\n",
      "568815592\n",
      "568815583\n",
      "1677485280\n",
      "588282795\n",
      "671162317\n",
      "671162316\n",
      "671162317\n",
      "671162315\n",
      "671162317\n",
      "665409964\n",
      "671162317\n",
      "671162316\n",
      "671162317\n",
      "671162122\n",
      "671162317\n",
      "442631014\n",
      "1752835636\n",
      "1752835408\n",
      "1752841253\n",
      "1752835454\n",
      "331658741\n",
      "777222485\n",
      "1746153855\n",
      "1746153853\n",
      "1162858853\n",
      "1045955938\n",
      "1337378523\n",
      "1267016611\n",
      "1744919856\n",
      "1744909038\n"
     ]
    }
   ],
   "source": [
    "eu_species_list = [\"Homo sapiens\", \"drosophila melanogaster\", \"Escherichia coli\"]\n",
    "enzyme_list = enzyme_list1 + enzyme_list2 + enzyme_list3\n",
    "\n",
    "for i in range(0,len(eu_species_list)):\n",
    "    for j in range(0,len(enzyme_list)):\n",
    "        generate(enzyme_list[j],eu_species_list[i])\n",
    "        #print(\"yes\")\n",
    "#print(len(enzyme_list))"
   ]
  },
  {
   "cell_type": "markdown",
   "metadata": {},
   "source": [
    "## I print one item in each table"
   ]
  },
  {
   "cell_type": "code",
   "execution_count": 61,
   "metadata": {},
   "outputs": [
    {
     "name": "stdout",
     "output_type": "stream",
     "text": [
      "('1675044213', 'NM_000672', 'Homo sapiens alcohol dehydrogenase 6 (class V) (ADH6), transcript variant 2, mRNA', 'Homo sapiens', 'ACCAGTCGCCTGTGTACCTTTGTACTTTCTACAGTGAAAGTTGCTACAGGATCTCCCTTTCTCAATAAATTCATCTGCGGTGGAGAAAATCAGCATGAGTACTACAGGCCAAGTCATCAGATGCAAAGCAGCCATACTCTGGAAGCCTGGTGCACCATTTTCTATTGAAGAGGTAGAAGTGGCCCCACCAAAGGCAAAGGAAGTTCGCATAAAGGTTGTGGCCACCGGACTGTGTGGTACAGAGATGAAAGTGTTGGGGAGTAAACACTTGGACCTCTTGTATCCCACCATCTTGGGCCATGAAGGGGCTGGAATCGTTGAGAGTATTGGAGAAGGAGTAAGCACAGTGAAACCAGGTGACAAAGTTATCACACTCTTTCTGCCACAGTGTGGAGAATGTACCTCTTGCCTGAATTCTGAGGGCAATTTTTGTATACAATTCAAACAGTCAAAAACCCAACTGATGTCTGATGGTACCAGCAGGTTTACCTGCAAGGGAAAATCAATATATCACTTTGGTAATACCAGCACCTTCTGTGAATACACAGTGATAAAGGAAATCTCAGTTGCCAAGATTGATGCAGTCGCTCCTCTAGAGAAAGTATGCCTAATTAGCTGTGGCTTTTCCACTGGGTTTGGTGCTGCAATCAATACTGCCAAGGTGACTCCAGGTTCTACCTGTGCTGTGTTTGGCCTGGGAGGAGTCGGCTTGTCTGTTGTCATGGGTTGTAAAGCAGCAGGAGCAGCCAGGATCATTGGAGTGGATGTCAACAAGGAGAAATTTAAGAAGGCACAGGAATTGGGTGCTACTGAGTGCCTCAACCCTCAGGACTTAAAGAAACCCATTCAAGAAGTTTTATTTGATATGACAGATGCTGGTATAGACTTCTGCTTTGAGGCCATTGGAAATCTGGACGTTCTGGCAGCTGCCCTCGCCTCCTGCAATGAGAGCTATGGGGTCTGTGTGGTTGTTGGGGTGTTGCCTGCCAGTGTTCAACTCAAAATCAGTGGCCAGTTGTTCTTCTCAGGACGTTCTTTGAAGGGTTCTGTTTTTGGAGGCTGGAAGAGCAGACAGCACATCCCTAAACTGGTTGCTGATTATATGGCAGAGAAGTTGAATCTAGATCCACTAATTACTCATACTCTGAATCTTGATAAAATCAATGAAGCAGTTGAATTAATGAAAACTGGAAAATGGTAAACTGCCCACATAAATTTTATGTCTGTGTGTTTGAGACCAAGAGAAAGGGTGTATTGGCTTGGGAGTAGAAGAAGGGTCGTCCCTGCTGCAGAAGCTGTATACTGATAATTGAAGAGGCTTTCAGGAATTTGTAAAGCATCTCCTTCCCCTCTGCATTTTGTTTTATTTCTAGCTAATAAAATACATAATCCTGAAAGTATTTAAGTGTTCACCTACCGTTACTTTTGCCATTAGCATTGTATTTCCAATATGGATTTTTTTTTTACATGACATATTAATGGAAGTCAGCTTATAAAATTGTAGCTCAAGTTTAAAAACATAAGAAGGTAGTTCACAAATAGGCCATTGTTGTATTTGTTGTTCTACTTTGGGGGAGAAGAGGAATTATTCATAGGATTCCTAATTCTGAATCCTATCTTTGACCCAAAAAACAGAAACCAGCCATAACCCAGAAACTGGCATTCCCCACACGAGTATAAGCTTGCTTACCTACTTTTTACCCTTGGAGTTTCATGTCATTTTAAAAAATCTTCCCATGGCTTATTTAATCTTCTCATTTTTCACCTAAAGAGAAAAAAAATCTAGTTTACTGCTCTACAAAGTGAGAATTTGAAATCCAAAACACAAATGTTGCTCTAAAAATGTTCCAACCTTTTTTCTCTTCTTCTTTTTTTCAGTATCCGCTGTATCCTGTTACTTTAAGTACAATGTAATACATGCAAGACCCAAAGGATATTTCACCAACTCAATGGCATTTGATGTAATTTTCATGATTTAGAAGAATTATTCACCCAATCCCATTTCTATATTCTGACTTCTGATTCACTCCGCAGTGGACCTATATCTGGCTTCTGACCTAACCATTTCATCAAAATTGTTCTTACGTAACCCAGTGTCACCAAGGATCAGCCTCCTTTTCAGAGCTAGATTAAGGTTGGCTTGAATCACTCAACTCCACATCCTTCAGACATAAAAGGTCAATGCAAGATGCTCCCATTTTCATAGTTCCTCTACCTGTGGACCTTTATATTCTTGTACACTATATGTCTCTCTCACAGGCCTAGACATGAAACTCTGCCATTTTACTCTAAAGAAACAAAACTCCGCATTAATGAGTTTATTGAAGATTCAGGTTAACCTGAATCAAGTTAACCCAGTCTCAAATGCTCACTTATCCTATCTCCTTGGCACAAATCTCTCCTCTCCTGGATTGCCAAAGAAAATTCAAATTATTCTTCAATTAGTCAGGATGATTTGACTATCAGCAGTTCATAGTACCCATCTTCATAACTAAGCCACCTAGGGATCCAGCAGAAAAAAAAGGGATGAGGGGAGTCATCATACAGGAGGTGGATCATTTAGCAGGATCCACACTTCCTACAAAGCGGTTGTAATATTAAATAACAAAACTGTTTTTTATTCCAATCTTCACATAAAACAGGAATAATTGTATACTTTCTTACTAATGTGTTCCATGGAGTTTTTCCTCCAAGAAGTGGCTTAGGGGAAAATGAGCCCCAGTAATGCTTTGTGGCATCCAATCCTTCTACCCCGACCCTTTGACTTTCTGCCCCAGCCCCTCTTAGTTCTCCTAGAATTAGGACTAAGGTTAAGTGCCCTCTTGGGATATGACTTCCTTCCCTTCCTCTTGATACAAAAAGAGCCTATTACCAACCCTCATACACACAAGAGTTCCCTTCCTAGTTGCAGACTCTTCTGCTCCAGCTGGACTCCCCTAGCTCTGGACTCCCACTAGATCACACAGGGGTCCCTGCATGTCAGTAAACTTTGGATGACCTTGGGAGACCAAAAAATGGAATATCATTTTTTGATCTAAACAAAATAGTTTCCTGATTTAACACTGGCCAGGAAGGTGGGCTGCACCCTCAGTCTCTCTCTCCCATCATGGTTTTCACATGATATCAAAGGACTCTCATAACAGTCTGATTCTTATGAGTTGGGCATCCTGTGTTTCCCTTTAGGGGCCTGCTTCCTTCAAATAGAGGAGATGGGTGCTATGAAACCTATTCACTCTGGACTTGGGATGGCTCTTCTCCATCTTCCCAAGTCTGAGCTGGAGCCTCCATGCCCAACTCTGCTCTGCTCTTCTATTTCCTGACAGCAGCTAAGGCATGTTCCTGTTCTGCCCCCAAATTGACCTTACTAACAGTGAGAACTTGGAGGAGTCTTCGGGTCTTGGGAAATCCAAGTTTTCCCGGAAACGTTTTGTTGTAAACAGTGTCCACACTCTTTGCTCCAATAAAGCTCGGTTCCTTAAGCCA', \"['4']\", 0, 3483, '1', \"['MSTTGQVIRCKAAILWKPGAPFSIEEVEVAPPKAKEVRIKVVATGLCGTEMKVLGSKHLDLLYPTILGHEGAGIVESIGEGVSTVKPGDKVITLFLPQCGECTSCLNSEGNFCIQFKQSKTQLMSDGTSRFTCKGKSIYHFGNTSTFCEYTVIKEISVAKIDAVAPLEKVCLISCGFSTGFGAAINTAKVTPGSTCAVFGLGGVGLSVVMGCKAAGAARIIGVDVNKEKFKKAQELGATECLNPQDLKKPIQEVLFDMTDAGIDFCFEAIGNLDVLAAALASCNESYGVCVVVGVLPASVQLKISGQLFFSGRSLKGSVFGGWKSRQHIPKLVADYMAEKLNLDPLITHTLNLDKINEAVELMKTGKW']\")\n"
     ]
    }
   ],
   "source": [
    "c.execute(\"SELECT * FROM genes\")\n",
    "print(c.fetchone())"
   ]
  },
  {
   "cell_type": "code",
   "execution_count": 62,
   "metadata": {},
   "outputs": [
    {
     "name": "stdout",
     "output_type": "stream",
     "text": [
      "('alcohol dehydrogenase', \"['A zinc protein. Acts on primary or secondary alcohols or hemi-acetals with very broad specificity; however the enzyme oxidizes methanol much more poorly than ethanol. The animal, but not the yeast, enzyme acts also on cyclic secondary alcohols.']\", '1.1.1.1')\n"
     ]
    }
   ],
   "source": [
    "c.execute(\"SELECT * FROM enzyme\")\n",
    "print(c.fetchone())"
   ]
  },
  {
   "cell_type": "code",
   "execution_count": 63,
   "metadata": {},
   "outputs": [
    {
     "name": "stdout",
     "output_type": "stream",
     "text": [
      "('map00010', 'Glycolysis', 'Glycolysis is the process of converting glucose into pyruvate and generating small amounts of ATP (energy) and NADH (reducing power). It is a central pathway that produces important precursor metabolites: six-carbon compounds of glucose-6P and fructose-6P and three-carbon compounds of glycerone-P, glyceraldehyde-3P, glycerate-3P, phosphoenolpyruvate, and pyruvate [MD:M00001]. Acetyl-CoA, another important precursor metabolite, is produced by oxidative decarboxylation of pyruvate [MD:M00307]. When the enzyme genes of this pathway are examined in completely sequenced genomes, the reaction steps of three-carbon compounds from glycerone-P to pyruvate form a conserved core module [MD:M00002], which is found in almost all organisms and which sometimes contains operon structures in bacterial genomes. Gluconeogenesis is a synthesis pathway of glucose from noncarbohydrate precursors. It is essentially a reversal of glycolysis with minor variations of alternative paths [MD:M00003].')\n"
     ]
    }
   ],
   "source": [
    "c.execute(\"SELECT * FROM pathway\")\n",
    "print(c.fetchone())"
   ]
  },
  {
   "cell_type": "code",
   "execution_count": 64,
   "metadata": {},
   "outputs": [
    {
     "name": "stdout",
     "output_type": "stream",
     "text": [
      "('1.1.1.1', 'map00010', 1)\n"
     ]
    }
   ],
   "source": [
    "c.execute(\"SELECT * FROM enzymes_in_pathways_with_order\")\n",
    "print(c.fetchone())"
   ]
  },
  {
   "cell_type": "code",
   "execution_count": 65,
   "metadata": {},
   "outputs": [
    {
     "name": "stdout",
     "output_type": "stream",
     "text": [
      "(1675044213, '1.1.1.1')\n"
     ]
    }
   ],
   "source": [
    "c.execute(\"SELECT * FROM genes_to_enzymes\")\n",
    "print(c.fetchone())"
   ]
  },
  {
   "cell_type": "code",
   "execution_count": null,
   "metadata": {},
   "outputs": [],
   "source": []
  }
 ],
 "metadata": {
  "kernelspec": {
   "display_name": "Python 3",
   "language": "python",
   "name": "python3"
  },
  "language_info": {
   "codemirror_mode": {
    "name": "ipython",
    "version": 3
   },
   "file_extension": ".py",
   "mimetype": "text/x-python",
   "name": "python",
   "nbconvert_exporter": "python",
   "pygments_lexer": "ipython3",
   "version": "3.7.3"
  }
 },
 "nbformat": 4,
 "nbformat_minor": 2
}
