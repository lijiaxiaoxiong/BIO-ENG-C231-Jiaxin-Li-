{
 "cells": [
  {
   "cell_type": "markdown",
   "metadata": {},
   "source": [
    "# 1. aligned to human genome\n",
    "\n",
    "### Terminal Command\n",
    "\n",
    "$ bowtie2 -p 8 --very-fast --no-unal -x /data/references/hg19/hg19 -1 /data/Lab6_data/mixed_reads1.fastq -2 /data/Lab6_data/mixed_reads2.fastq -S output.sam --un-conc unaligned.fastq\n",
    "\n",
    "\n",
    "Output：\n",
    "\n",
    "1285441 reads; of these:\n",
    "  1285441 (100.00%) were paired; of these:\n",
    "    1285105 (99.97%) aligned concordantly 0 times\n",
    "    114 (0.01%) aligned concordantly exactly 1 time\n",
    "    222 (0.02%) aligned concordantly >1 times\n",
    "    ----\n",
    "    1285105 pairs aligned concordantly 0 times; of these:\n",
    "      227762 (17.72%) aligned discordantly 1 time\n",
    "    ----\n",
    "    1057343 pairs aligned 0 times concordantly or discordantly; of these:\n",
    "      2114686 mates make up the pairs; of these:\n",
    "        2062758 (97.54%) aligned 0 times\n",
    "        15162 (0.72%) aligned exactly 1 time\n",
    "        36766 (1.74%) aligned >1 times\n",
    "19.76% overall alignment rate"
   ]
  },
  {
   "cell_type": "markdown",
   "metadata": {},
   "source": [
    "# Q&A\n",
    "\n",
    "1. What will you use for the database?\n",
    "   \n",
    "   the database will be the human genome database which is stored in /data/reference/hg19/hg19 \n",
    "\n",
    "\n",
    "2. What will you use for the input reads?\n",
    "\n",
    "   the input reads will be the reads files stored in /data/Lab6_data\n",
    "   \n",
    "   Because we will align pair end reads, so we should use both of the reads file.\n",
    "   \n",
    "\n",
    "3. If you use the -un unaligned.fastq option, what will unaligned.fastq contain?\n",
    "\n",
    "    Actually, I used -un-conc unaligned.fastq option. I think there will be the paired-end reads that fail to align concordantly. Particularly, the unligned reads from mixed_reads1 will go to unaligned.1.fastq. And the unaligned read from mixed_reads2 will go to unaligned.2.fastq.\n",
    "    ## The unaligned.fastq file will still contain the sequence from human genome. That is because the pairs aligned discordantly and mates aligned singly went to the unaligned.fastq file as well.\n",
    "    The detailed description of this parameter from bowtie2 manual is here:\n",
    "    \n",
    "    Write paired-end reads that fail to align concordantly to file(s) at <path>. These reads correspond to the SAM records with the FLAGS 0x4 bit set and either the 0x40 or 0x80 bit set (depending on whether it’s mate #1 or #2). .1 and .2 strings are added to the filename to distinguish which file contains mate #1 and mate #2. If a percent symbol, %, is used in <path>, the percent symbol is replaced with 1 or 2 to make the per-mate filenames. Otherwise, .1 or .2 are added before the final dot in <path> to make the per-mate filenames. Reads written in this way will appear exactly as they did in the input files, without any modification (same sequence, same name, same quality string, same quality encoding). Reads will not necessarily appear in the same order as they did in the inputs.\n",
    "    \n",
    "\n",
    "\n",
    "4. What percentage of your sequencing library came from contaminating human DNA?\n",
    "\n",
    "    There are 19.76% of my sequencing library coming from contaminating human DNA.\n",
    "\n"
   ]
  },
  {
   "cell_type": "markdown",
   "metadata": {},
   "source": [
    "# 2. filtered reads aligned to bacterium genome\n",
    "\n",
    "## Use --very-fast\n",
    "\n",
    "$ bowtie2 -p 8 --very-fast --no-unal -x /data/references/shewanella_oneidensis_mr-1/shewanella_oneidensis_mr-1 -1 ./unaligned.1.fastq -2 ./unaligned.2.fastq -S output_SO.sam --un-conc unaligned_SO.fastq\n",
    "\n",
    "1285105 reads; of these:\n",
    "  1285105 (100.00%) were paired; of these:\n",
    "    1049640 (81.68%) aligned concordantly 0 times\n",
    "    220987 (17.20%) aligned concordantly exactly 1 time\n",
    "    14478 (1.13%) aligned concordantly >1 times\n",
    "    ----\n",
    "    1049640 pairs aligned concordantly 0 times; of these:\n",
    "      288853 (27.52%) aligned discordantly 1 time\n",
    "    ----\n",
    "    760787 pairs aligned 0 times concordantly or discordantly; of these:\n",
    "      1521574 mates make up the pairs; of these:\n",
    "        1245335 (81.85%) aligned 0 times\n",
    "        221076 (14.53%) aligned exactly 1 time\n",
    "        55163 (3.63%) aligned >1 times\n",
    "51.55% overall alignment rate\n"
   ]
  },
  {
   "cell_type": "markdown",
   "metadata": {},
   "source": [
    "## Use --very-sensitive\n",
    "\n",
    "### Terminal command\n",
    "### Output\n",
    "\n",
    "$ bowtie2 -p 8 --very-sensitive --no-unal -x /data/references/shewanella_oneidensis_mr-1/shewanella_oneidensis_mr-1 -1 ./unaligned.1.fastq -2 ./unaligned.2.fastq -S output_SO_sensitive.sam --un-conc unaligned_SO_sensitive.fastq\n",
    "\n",
    "\n",
    "Output：\n",
    "1285105 reads; of these:\n",
    "  1285105 (100.00%) were paired; of these:\n",
    "    1048972 (81.63%) aligned concordantly 0 times\n",
    "    221437 (17.23%) aligned concordantly exactly 1 time\n",
    "    14696 (1.14%) aligned concordantly >1 times\n",
    "    ----\n",
    "    1048972 pairs aligned concordantly 0 times; of these:\n",
    "      291246 (27.76%) aligned discordantly 1 time\n",
    "    ----\n",
    "    757726 pairs aligned 0 times concordantly or discordantly; of these:\n",
    "      1515452 mates make up the pairs; of these:\n",
    "        1238527 (81.73%) aligned 0 times\n",
    "        220113 (14.52%) aligned exactly 1 time\n",
    "        56812 (3.75%) aligned >1 times\n",
    "51.81% overall alignment rate"
   ]
  },
  {
   "cell_type": "markdown",
   "metadata": {},
   "source": [
    "# Q&A\n",
    "\n",
    "1. If you use the --un unaligned.fastq option, what will unaligned.fastq contain?\n",
    "\n",
    "    1049640 pairs of reads that are aligned concordantly 0 times.\n",
    "    \n",
    "    \n",
    "2. What percentage of your filtered library didn't align to the reference genome?\n",
    "\n",
    "    48.45% (1 - 51.55%) of the filtered library didn't align to the reference genome.\n",
    "    \n",
    "    \n",
    "3. If use --very-sensitive instead of --very-fast, does this percentage increase or decrease?\n",
    "    \n",
    "    48.19%\n",
    "    \n",
    "    so the percentage decreases."
   ]
  },
  {
   "cell_type": "markdown",
   "metadata": {},
   "source": [
    "### read the .tab file with pandas package"
   ]
  },
  {
   "cell_type": "code",
   "execution_count": 1,
   "metadata": {},
   "outputs": [
    {
     "name": "stderr",
     "output_type": "stream",
     "text": [
      "/opt/anaconda3/lib/python3.7/site-packages/ipykernel_launcher.py:3: FutureWarning: read_table is deprecated, use read_csv instead, passing sep='\\t'.\n",
      "  This is separate from the ipykernel package so we can avoid doing imports until\n"
     ]
    }
   ],
   "source": [
    "import pandas\n",
    "\n",
    "whole_table = pandas.read_table(\"pileup_SO.tab\", names = ['chrom', 'position', 'depth'])\n"
   ]
  },
  {
   "cell_type": "markdown",
   "metadata": {},
   "source": [
    "### extract depth and position from .tab file and make them become list"
   ]
  },
  {
   "cell_type": "code",
   "execution_count": 2,
   "metadata": {},
   "outputs": [],
   "source": [
    "dep = whole_table['depth']\n",
    "position = whole_table['position']"
   ]
  },
  {
   "cell_type": "code",
   "execution_count": 3,
   "metadata": {},
   "outputs": [],
   "source": [
    "dep = list(dep)\n",
    "#print(dep)\n",
    "\n",
    "position = list(position)"
   ]
  },
  {
   "cell_type": "markdown",
   "metadata": {},
   "source": [
    "### Print the max, min and average depth"
   ]
  },
  {
   "cell_type": "code",
   "execution_count": 13,
   "metadata": {},
   "outputs": [
    {
     "name": "stdout",
     "output_type": "stream",
     "text": [
      "Max depth is 472\n",
      "Min depth is 1\n",
      "Average depth is 70.010275\n"
     ]
    }
   ],
   "source": [
    "import statistics as sta\n",
    "max_coverage = max(dep)\n",
    "\n",
    "min_coverage = min(dep)\n",
    "\n",
    "average_coverage = sta.mean(dep)\n",
    "#print(type(average_coverage))\n",
    "print(\"Max depth is %d\\nMin depth is %d\\nAverage depth is %f\" %(max_coverage, min_coverage, average_coverage))"
   ]
  },
  {
   "cell_type": "markdown",
   "metadata": {},
   "source": [
    "# Q&A\n",
    "\n",
    "1. What is the min, max, and mean coverage across all positions?\n",
    "\n",
    "The max coverage is 472,\n",
    "the min coverage is 1,\n",
    "the average coverage is 70.010275\n",
    "\n"
   ]
  },
  {
   "cell_type": "markdown",
   "metadata": {},
   "source": [
    "# Plot the depth of coverage in every position"
   ]
  },
  {
   "cell_type": "code",
   "execution_count": 26,
   "metadata": {},
   "outputs": [
    {
     "data": {
      "text/plain": [
       "<function matplotlib.pyplot.show(*args, **kw)>"
      ]
     },
     "execution_count": 26,
     "metadata": {},
     "output_type": "execute_result"
    },
    {
     "data": {
      "image/png": "[encoded data removed]",
      "text/plain": [
       "<Figure size 1152x648 with 1 Axes>"
      ]
     },
     "metadata": {
      "needs_background": "light"
     },
     "output_type": "display_data"
    }
   ],
   "source": [
    "from matplotlib import pyplot as plt\n",
    "\n",
    "#list_po = range(0, average_len)\n",
    "plt.figure(figsize= [16,9])\n",
    "plt.scatter(position, dep , color = 'red', alpha = 0.5)\n",
    "plt.xlabel(\"Position in Genome\")\n",
    "plt.ylabel(\"Depth of Coverage\")\n",
    "plt.show\n"
   ]
  },
  {
   "cell_type": "markdown",
   "metadata": {},
   "source": [
    "# Plot the histogram which shows the coverage depth distrbution."
   ]
  },
  {
   "cell_type": "code",
   "execution_count": 24,
   "metadata": {},
   "outputs": [
    {
     "data": {
      "text/plain": [
       "<function matplotlib.pyplot.show(*args, **kw)>"
      ]
     },
     "execution_count": 24,
     "metadata": {},
     "output_type": "execute_result"
    },
    {
     "data": {
      "image/png": "[encoded data removed]",
      "text/plain": [
       "<Figure size 1152x648 with 1 Axes>"
      ]
     },
     "metadata": {
      "needs_background": "light"
     },
     "output_type": "display_data"
    }
   ],
   "source": [
    "from matplotlib import pyplot as plt\n",
    "plt.figure(figsize = [16,9])\n",
    "plt.hist(dep, bins = 1000, facecolor = \"#66CCFF\")\n",
    "plt.xlabel(\"Depth of coverage\")\n",
    "plt.ylabel(\"Count\")\n",
    "plt.show"
   ]
  },
  {
   "cell_type": "markdown",
   "metadata": {},
   "source": [
    "# Extra Credict 1: \n",
    "\n",
    "## 1. def a function which can calculate the average depth for every 100000 basepairs."
   ]
  },
  {
   "cell_type": "code",
   "execution_count": 70,
   "metadata": {},
   "outputs": [],
   "source": [
    "def ave_depth(dep):\n",
    "    import statistics as sta\n",
    "    average_len = int(len(dep)/100000) + 1\n",
    "    begin = 0\n",
    "    end = 100000\n",
    "    average_depthes = []\n",
    "    for i in range(0, average_len):\n",
    "        Po = dep[begin:end]\n",
    "        average_depth = sta.mean(Po)\n",
    "        average_depthes.append(average_depth)\n",
    "        begin += 100000\n",
    "        if i == average_len - 1:\n",
    "            end = len(dep)-1\n",
    "        else:\n",
    "            end += 100000\n",
    "            \n",
    "    return average_depthes\n"
   ]
  },
  {
   "cell_type": "markdown",
   "metadata": {},
   "source": [
    "## 2. read the pipeup_hg.tab file which contains the depth data"
   ]
  },
  {
   "cell_type": "code",
   "execution_count": 44,
   "metadata": {},
   "outputs": [
    {
     "name": "stderr",
     "output_type": "stream",
     "text": [
      "/opt/anaconda3/lib/python3.7/site-packages/ipykernel_launcher.py:2: FutureWarning: read_table is deprecated, use read_csv instead, passing sep='\\t'.\n",
      "  \n"
     ]
    }
   ],
   "source": [
    "import pandas\n",
    "table_gh = pandas.read_table(\"pipeup_hg.tab\", names = [\"Position\", \"Depth\"], index_col = 0)"
   ]
  },
  {
   "cell_type": "code",
   "execution_count": 67,
   "metadata": {},
   "outputs": [],
   "source": [
    "chr1 = table_gh.filter(like = \"chr3\", axis = 0)"
   ]
  },
  {
   "cell_type": "code",
   "execution_count": 66,
   "metadata": {},
   "outputs": [
    {
     "name": "stdout",
     "output_type": "stream",
     "text": [
      "Index(['chr1', 'chr1', 'chr1', 'chr1', 'chr1', 'chr1', 'chr1', 'chr1', 'chr1',\n",
      "       'chr1',\n",
      "       ...\n",
      "       'chr2', 'chr2', 'chr2', 'chr2', 'chr2', 'chr2', 'chr2', 'chr2', 'chr2',\n",
      "       'chr2'],\n",
      "      dtype='object', length=434767142)\n",
      "<class 'pandas.core.frame.DataFrame'>\n",
      "Index: 434767142 entries, chr1 to chr2\n",
      "Data columns (total 2 columns):\n",
      "Position    int64\n",
      "Depth       float64\n",
      "dtypes: float64(1), int64(1)\n",
      "memory usage: 9.7+ GB\n"
     ]
    }
   ],
   "source": [
    "keys = table_gh.index\n",
    "if 'chr3' in keys:\n",
    "    print()\n",
    "print(keys)\n",
    "table_gh.info()"
   ]
  },
  {
   "cell_type": "code",
   "execution_count": 38,
   "metadata": {},
   "outputs": [
    {
     "name": "stdout",
     "output_type": "stream",
     "text": [
      "<class 'pandas.core.indexes.range.RangeIndex'>\n"
     ]
    }
   ],
   "source": [
    "chrom = table_gh[\"chrom\"].keys()\n",
    "print(type(chrom))"
   ]
  },
  {
   "cell_type": "code",
   "execution_count": 61,
   "metadata": {},
   "outputs": [
    {
     "name": "stderr",
     "output_type": "stream",
     "text": [
      "/opt/anaconda3/lib/python3.7/site-packages/ipykernel_launcher.py:3: FutureWarning: read_table is deprecated, use read_csv instead, passing sep='\\t'.\n",
      "  This is separate from the ipykernel package so we can avoid doing imports until\n"
     ]
    }
   ],
   "source": [
    "import pandas as pd\n",
    "\n",
    "test = pd.read_table(\"test.tab\", names = [\"one\", \"two\", \"three\"], index_col = 0)\n"
   ]
  },
  {
   "cell_type": "code",
   "execution_count": 62,
   "metadata": {},
   "outputs": [
    {
     "data": {
      "text/html": [
       "<div>\n",
       "<style scoped>\n",
       "    .dataframe tbody tr th:only-of-type {\n",
       "        vertical-align: middle;\n",
       "    }\n",
       "\n",
       "    .dataframe tbody tr th {\n",
       "        vertical-align: top;\n",
       "    }\n",
       "\n",
       "    .dataframe thead th {\n",
       "        text-align: right;\n",
       "    }\n",
       "</style>\n",
       "<table border=\"1\" class=\"dataframe\">\n",
       "  <thead>\n",
       "    <tr style=\"text-align: right;\">\n",
       "      <th></th>\n",
       "    </tr>\n",
       "  </thead>\n",
       "  <tbody>\n",
       "    <tr>\n",
       "      <th>rabbit</th>\n",
       "    </tr>\n",
       "    <tr>\n",
       "      <th>mouse</th>\n",
       "    </tr>\n",
       "  </tbody>\n",
       "</table>\n",
       "</div>"
      ],
      "text/plain": [
       "Empty DataFrame\n",
       "Columns: []\n",
       "Index: [rabbit, mouse]"
      ]
     },
     "execution_count": 62,
     "metadata": {},
     "output_type": "execute_result"
    }
   ],
   "source": [
    "test.filter(like = \"rabbit\", axis = 1)"
   ]
  },
  {
   "cell_type": "code",
   "execution_count": 65,
   "metadata": {},
   "outputs": [
    {
     "name": "stdout",
     "output_type": "stream",
     "text": [
      "<class 'pandas.core.frame.DataFrame'>\n",
      "Index: 2 entries, rabbit to mouse\n",
      "Data columns (total 3 columns):\n",
      "one      2 non-null int64\n",
      "two      2 non-null int64\n",
      "three    2 non-null object\n",
      "dtypes: int64(2), object(1)\n",
      "memory usage: 64.0+ bytes\n"
     ]
    }
   ],
   "source": [
    "test.info()"
   ]
  },
  {
   "cell_type": "code",
   "execution_count": null,
   "metadata": {},
   "outputs": [],
   "source": []
  }
 ],
 "metadata": {
  "kernelspec": {
   "display_name": "Python 3",
   "language": "python",
   "name": "python3"
  },
  "language_info": {
   "codemirror_mode": {
    "name": "ipython",
    "version": 3
   },
   "file_extension": ".py",
   "mimetype": "text/x-python",
   "name": "python",
   "nbconvert_exporter": "python",
   "pygments_lexer": "ipython3",
   "version": "3.7.3"
  }
 },
 "nbformat": 4,
 "nbformat_minor": 2
}
