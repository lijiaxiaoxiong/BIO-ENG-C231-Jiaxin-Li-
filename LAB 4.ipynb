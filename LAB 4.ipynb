{
 "cells": [
  {
   "cell_type": "code",
   "execution_count": 73,
   "metadata": {},
   "outputs": [],
   "source": [
    "import sqlite3 as sql"
   ]
  },
  {
   "cell_type": "markdown",
   "metadata": {},
   "source": [
    "# 1. Create Database and 3 fundamental tables\n",
    "\n",
    "* command \"sql.connect()\" creates a new database file in a designated address.\n",
    "* use .cursor() to create a cursor.\n",
    "* use curson_name.execute() to execute SQLite syntax."
   ]
  },
  {
   "cell_type": "code",
   "execution_count": 74,
   "metadata": {},
   "outputs": [],
   "source": [
    "con = sql.connect(\"Enzyme_in_Pathway.db\")\n",
    "c = con.cursor()"
   ]
  },
  {
   "cell_type": "code",
   "execution_count": 75,
   "metadata": {},
   "outputs": [
    {
     "data": {
      "text/plain": [
       "<sqlite3.Cursor at 0x7f5c3c77e880>"
      ]
     },
     "execution_count": 75,
     "metadata": {},
     "output_type": "execute_result"
    }
   ],
   "source": [
    "c.execute(\"\"\"CREATE TABLE genes(id TEXT,\n",
    "                                 name TEXT,\n",
    "                                 description TEXT,\n",
    "                                 organism TEXT,\n",
    "                                 nucleotide_sequence TEXT,\n",
    "                                 chromosome TEXT,\n",
    "                                 start INT,\n",
    "                                 end INT,\n",
    "                                 strand VARCHAR(1),\n",
    "                                 translated_sequence TEXT);\"\"\")\n",
    "\n",
    "c.execute(\"\"\"CREATE TABLE pathway(id TEXT, \n",
    "                                  name TEXT,\n",
    "                                  description TEXT);\"\"\")\n",
    "\n",
    "c.execute(\"\"\"CREATE TABLE enzyme(id TEXT,\n",
    "                                 name TEXT,\n",
    "                                 function TEXT,\n",
    "                                 EC_number TEXT);\"\"\")\n",
    "\n"
   ]
  },
  {
   "cell_type": "markdown",
   "metadata": {},
   "source": [
    "# 2. Create Associative Tables\n",
    "\n",
    "1. enzymes_in_pathways_with_order associative table, this table indicates which pathway the enzymes beclong to, and an additional number is added to this table to show the order of enzyme in specified pathway.\n",
    "\n"
   ]
  },
  {
   "cell_type": "code",
   "execution_count": 76,
   "metadata": {},
   "outputs": [
    {
     "data": {
      "text/plain": [
       "<sqlite3.Cursor at 0x7f5c3c77e880>"
      ]
     },
     "execution_count": 76,
     "metadata": {},
     "output_type": "execute_result"
    }
   ],
   "source": [
    "c.execute(\"\"\"CREATE TABLE enzymes_in_pathways_with_order(gene_id INT,\n",
    "                                                         pathway_id INT,\n",
    "                                                         order_in_pathway INT);\"\"\")\n",
    "\n",
    "c.execute(\"\"\"CREATE TABLE genes_to_enzymes(gene_id INT,\n",
    "                                         enzyme_id INT);\"\"\")\n",
    "\n"
   ]
  },
  {
   "cell_type": "markdown",
   "metadata": {},
   "source": [
    "# 3. Insert information of 3 pathway to pathway table\n",
    "\n",
    "## 1. Go to KEGG and search for 3 pathway. (with browser)\n",
    "* website address of glycolysis: https://www.genome.jp/dbget-bin/www_bget?map00010\n",
    "\n",
    "* website address of the citrate cycle : https://www.genome.jp/dbget-bin/www_bget?pathway+map00020\n",
    "\n",
    "* website address of the pentose phosphate : https://www.genome.jp/dbget-bin/www_bget?map00030\n",
    "\n",
    "## 2. Insert these pathway's ID (KEGG format), name and description to pathway table.\n"
   ]
  },
  {
   "cell_type": "code",
   "execution_count": 77,
   "metadata": {},
   "outputs": [],
   "source": [
    "c.execute(\"\"\"INSERT INTO pathway(id, name, description) VALUES(?,?,?)\"\"\", \n",
    "          (\"map00010\", \"Glycolysis\", \"Glycolysis is the process of converting glucose into pyruvate and generating small amounts of ATP (energy) and NADH (reducing power). It is a central pathway that produces important precursor metabolites: six-carbon compounds of glucose-6P and fructose-6P and three-carbon compounds of glycerone-P, glyceraldehyde-3P, glycerate-3P, phosphoenolpyruvate, and pyruvate [MD:M00001]. Acetyl-CoA, another important precursor metabolite, is produced by oxidative decarboxylation of pyruvate [MD:M00307]. When the enzyme genes of this pathway are examined in completely sequenced genomes, the reaction steps of three-carbon compounds from glycerone-P to pyruvate form a conserved core module [MD:M00002], which is found in almost all organisms and which sometimes contains operon structures in bacterial genomes. Gluconeogenesis is a synthesis pathway of glucose from noncarbohydrate precursors. It is essentially a reversal of glycolysis with minor variations of alternative paths [MD:M00003].\"))\n",
    "\n",
    "c.execute(\"\"\"INSERT INTO pathway(id, name, description) VALUES(?,?,?)\"\"\",\n",
    "          (\"map00020\", \"Citrate cycle\", \"The citrate cycle (TCA cycle, Krebs cycle) is an important aerobic pathway for the final steps of the oxidation of carbohydrates and fatty acids. The cycle starts with acetyl-CoA, the activated form of acetate, derived from glycolysis and pyruvate oxidation for carbohydrates and from beta oxidation of fatty acids. The two-carbon acetyl group in acetyl-CoA is transferred to the four-carbon compound of oxaloacetate to form the six-carbon compound of citrate. In a series of reactions two carbons in citrate are oxidized to CO2 and the reaction pathway supplies NADH for use in the oxidative phosphorylation and other metabolic processes. The pathway also supplies important precursor metabolites including 2-oxoglutarate. At the end of the cycle the remaining four-carbon part is transformed back to oxaloacetate. According to the genome sequence data, many organisms seem to lack genes for the full cycle [MD:M00009], but contain genes for specific segments [MD:M00010 M00011].\"))\n",
    "\n",
    "c.execute(\"\"\"INSERT INTO pathway(id, name, description) VALUES(?,?,?)\"\"\", \n",
    "          (\"map00030\", \"Pentose phosphate pathway\", \"The pentose phosphate pathway is a process of glucose turnover that produces NADPH as reducing equivalents and pentoses as essential parts of nucleotides. There are two different phases in the pathway. One is irreversible oxidative phase in which glucose-6P is converted to ribulose-5P by oxidative decarboxylation, and NADPH is generated [MD:M00006]. The other is reversible non-oxidative phase in which phosphorylated sugars are interconverted to generate xylulose-5P, ribulose-5P, and ribose-5P [MD:M00007]. Phosphoribosyl pyrophosphate (PRPP) formed from ribose-5P [MD:M00005] is an activated compound used in the biosynthesis of histidine and purine/pyrimidine nucleotides. This pathway map also shows the Entner-Doudoroff pathway where 6-P-gluconate is dehydrated and then cleaved into pyruvate and glyceraldehyde-3P [MD:M00008].\"))\n",
    "\n",
    "con.commit()\n"
   ]
  },
  {
   "cell_type": "markdown",
   "metadata": {},
   "source": [
    "# 4. Insert Enzymes into table"
   ]
  },
  {
   "cell_type": "code",
   "execution_count": 78,
   "metadata": {},
   "outputs": [],
   "source": [
    "from Bio.KEGG import REST\n",
    "from Bio.KEGG.KGML import KGML_parser as ks\n",
    "from Bio.KEGG import Enzyme\n",
    "\n",
    "def get_enzymes(enzyme):\n",
    "    request = REST.kegg_get(enzyme)\n",
    "    record = Enzyme.read(request)\n",
    "    #print(record.genes[0])\n",
    "    #print(record.name)\n",
    "    return record\n",
    "\n",
    "record = get_enzymes(\"1.1.1.1\")\n",
    "\n",
    "def insert_enzymes(record):\n",
    "    name = record.name\n",
    "    EC_number = record.entry\n",
    "    function = record.comment\n",
    "    c.execute(\"\"\"INSERT INTO enzyme(name, function, EC_number) VALUES(?,?,?)\"\"\",\n",
    "             (str(name), str(function), str(EC_number)))\n",
    "    con.commit()\n",
    "    \n",
    "    \n",
    "\n"
   ]
  },
  {
   "cell_type": "markdown",
   "metadata": {},
   "source": [
    "### I got the list of enzymes in 3 pathway, the website links are here:\n",
    "glycolysis enzymes: https://www.genome.jp/dbget-bin/get_linkdb?-t+enzyme+path:map00010"
   ]
  },
  {
   "cell_type": "code",
   "execution_count": 79,
   "metadata": {},
   "outputs": [],
   "source": [
    "enzyme_list1 = [\"1.1.1.1\", \n",
    "                \"1.1.1.2\", \n",
    "                \"1.1.1.27\",             \n",
    "                \"1.1.2.7\",]\n",
    "\n",
    "\n",
    "for i in range(0,len(enzyme_list1)):\n",
    "    insert_enzymes(get_enzymes(enzyme_list[i]))\n",
    "\n"
   ]
  },
  {
   "cell_type": "markdown",
   "metadata": {},
   "source": [
    "TCA cycle enzymes: https://www.genome.jp/dbget-bin/get_linkdb?-t+enzyme+path:map00020"
   ]
  },
  {
   "cell_type": "code",
   "execution_count": 80,
   "metadata": {},
   "outputs": [],
   "source": [
    "enzyme_list2 = [\"1.1.1.286\",            \n",
    "                \"1.1.1.37\",          \n",
    "                \"1.1.1.41\",            \n",
    "                \"1.1.1.42\"]\n",
    "\n",
    "\n",
    "for i in range(0,len(enzyme_list2)):\n",
    "    insert_enzymes(get_enzymes(enzyme_list[i]))"
   ]
  },
  {
   "cell_type": "markdown",
   "metadata": {},
   "source": [
    "pentose phosphate pathway enzymes: https://www.genome.jp/dbget-bin/get_linkdb?-t+enzyme+path:map00030"
   ]
  },
  {
   "cell_type": "code",
   "execution_count": 81,
   "metadata": {},
   "outputs": [],
   "source": [
    "enzyme_list3 = [\"1.1.1.215\", \n",
    "                \"1.1.1.343\",          \n",
    "                \"1.1.1.359\",         \n",
    "                \"1.1.1.360\"]\n",
    "\n",
    "\n",
    "for i in range(0,len(enzyme_list3)):\n",
    "    insert_enzymes(get_enzymes(enzyme_list[i]))"
   ]
  },
  {
   "cell_type": "markdown",
   "metadata": {},
   "source": [
    "# Accessing enzymes' gene datas\n",
    "1. use .esearch() to search the databases in NCBI\n",
    "2. use .efetch() to get more complete information about an item.\n",
    "3. Wrap these as a function\n"
   ]
  },
  {
   "cell_type": "code",
   "execution_count": 82,
   "metadata": {},
   "outputs": [],
   "source": [
    "def search_for(db,term1):\n",
    "    \n",
    "    from Bio import Entrez as ent\n",
    "    from Bio import SeqIO\n",
    "\n",
    "    ent.email = 'lijiaxiaoxiong@icloud.com'\n",
    "\n",
    "    handle = ent.esearch(db = db,\n",
    "                            term = term1,\n",
    "                            sort = 'relevant',\n",
    "                            idytpe = 'acc')\n",
    "    return handle\n",
    "    "
   ]
  },
  {
   "cell_type": "code",
   "execution_count": 102,
   "metadata": {},
   "outputs": [],
   "source": [
    "def deal_genbank(handle):\n",
    "    from Bio import Entrez as ent\n",
    "    from Bio import SeqIO\n",
    "    for i in ent.read(handle)['IdList']:\n",
    "       \n",
    "        handle = ent.efetch(db = 'nucleotide', id = i, rettype = 'gb', retmode = 'text') \n",
    "        record = SeqIO.read(handle, \"genbank\")\n",
    "       \n",
    "        GI = i\n",
    "        name = record.name\n",
    "        description = record.description\n",
    "        organism = record.annotations[\"organism\"]\n",
    "        \n",
    "        #use SeqIO to read genbank format, the features are forming a dictionary called annotations.\n",
    "        \n",
    "        #chromosome = record.features[0].qualifiers[\"chromosome\"]\n",
    "        start = record.features[0].location.start\n",
    "        end = record.features[0].location.end\n",
    "        strand = record.features[0].location.strand\n",
    "        seq = record.seq\n",
    "        trans= ''\n",
    "        \n",
    "        for j in range(0,len(record.features)):\n",
    "            if record.features[j].type == \"CDS\":\n",
    "                trans = record.features[j].qualifiers[\"translation\"]\n",
    "                \n",
    "        c.execute(\"\"\"INSERT INTO genes(id,name,description, organism, nucleotide_sequence,chromsome, start, end, strand, translated_sequence) VALUES (?,?,?,?,?,?,?,?,?,?);\"\"\", \n",
    "                  (int(i), str(name), str(description),str(organism), str(seq), str(chromosome),int(start), int(end), int(strand), str(trans)))\n",
    "        \n",
    "        con.commit()\n",
    "    return handle\n",
    "    "
   ]
  },
  {
   "cell_type": "code",
   "execution_count": 97,
   "metadata": {},
   "outputs": [],
   "source": [
    "def generate(enzyme, species):\n",
    "    record = get_enzymes(enzyme)\n",
    "    term1 = species + ' ' + record.name[0]\n",
    "    deal_genbank(search_for(\"nucleotide\", term1))\n",
    "    "
   ]
  },
  {
   "cell_type": "code",
   "execution_count": null,
   "metadata": {},
   "outputs": [],
   "source": []
  }
 ],
 "metadata": {
  "kernelspec": {
   "display_name": "Python 3",
   "language": "python",
   "name": "python3"
  },
  "language_info": {
   "codemirror_mode": {
    "name": "ipython",
    "version": 3
   },
   "file_extension": ".py",
   "mimetype": "text/x-python",
   "name": "python",
   "nbconvert_exporter": "python",
   "pygments_lexer": "ipython3",
   "version": "3.7.3"
  }
 },
 "nbformat": 4,
 "nbformat_minor": 2
}
