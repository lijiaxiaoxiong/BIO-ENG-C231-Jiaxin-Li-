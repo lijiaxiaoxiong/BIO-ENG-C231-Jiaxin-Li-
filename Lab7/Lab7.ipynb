{
 "cells": [
  {
   "cell_type": "markdown",
   "metadata": {},
   "source": [
    "# simulating the data"
   ]
  },
  {
   "cell_type": "markdown",
   "metadata": {},
   "source": [
    "## 1. Def a function to generate binary data files with different 0 ratio"
   ]
  },
  {
   "cell_type": "code",
   "execution_count": 1,
   "metadata": {},
   "outputs": [
    {
     "name": "stdout",
     "output_type": "stream",
     "text": [
      "0.5\n",
      "0.6\n",
      "0.7\n",
      "0.8\n",
      "0.9\n",
      "1.0\n"
     ]
    }
   ],
   "source": [
    "def gen_random_bi(zeropercentage):\n",
    "    import numpy as np\n",
    "    random_bi = np.random.choice([0,1], size = 8 * 1000 *1000 * 100, replace = True, p = [zeropercentage, 1 - zeropercentage])\n",
    "    random_bi = np.packbits(random_bi)\n",
    "    file_name = \"zero_\"+ str(zeropercentage)\n",
    "    with open(file_name, \"wb\") as BI:\n",
    "        BI.write(random_bi)\n",
    "        BI.close()\n",
    "        \n",
    "for i in [0.5,0.6,0.7,0.8,0.9,1.0]:\n",
    "    print(i)\n",
    "    gen_random_bi(i)\n",
    "    "
   ]
  },
  {
   "cell_type": "markdown",
   "metadata": {},
   "source": [
    "## 2. Generate DNA sequence"
   ]
  },
  {
   "cell_type": "code",
   "execution_count": 2,
   "metadata": {},
   "outputs": [],
   "source": [
    "import numpy as np\n",
    "\n",
    "Nt = ['A', 'G', 'C', 'T']\n",
    "random_DNA = np.random.choice(Nt, size = 100000000, replace = True, p = [0.25, 0.25, 0.25, 0.25])\n",
    "random_DNA.tostring()\n",
    "\n",
    "with open(\"nt_seq.fa\", \"w\") as NT:\n",
    "    NT.write(\"\".join(random_DNA))\n",
    "    NT.close()\n",
    "\n"
   ]
  },
  {
   "cell_type": "code",
   "execution_count": 3,
   "metadata": {},
   "outputs": [],
   "source": [
    "import numpy as np\n",
    "Aa = ['G','A','V','L','I','P','F','Y','W','S','T','C','M','N','Q','D','E','K','R','H']\n",
    "pr = []\n",
    "for i in range(0, 20):\n",
    "    pr.append(0.05)\n",
    "random_Pro = np.random.choice(Aa, size = 100000000, replace = True, p = pr )\n",
    "random_Pro.tostring()\n",
    "with open(\"protein_seq.fa\", \"w\") as PR:\n",
    "    PR.write(\"\".join(random_Pro))\n",
    "    PR.close()\n"
   ]
  },
  {
   "cell_type": "markdown",
   "metadata": {},
   "source": [
    "# Compressing the data"
   ]
  },
  {
   "cell_type": "markdown",
   "metadata": {},
   "source": [
    "### gzip = DEFLATE = Huffman + Lempel-Ziv\n",
    "\n",
    "### bzip = Burrows-Wheeler"
   ]
  },
  {
   "cell_type": "code",
   "execution_count": 22,
   "metadata": {},
   "outputs": [],
   "source": [
    "def comp_file(filename):\n",
    "    import subprocess \n",
    "    out_file = filename + '.gz'\n",
    "    time_dic = {}\n",
    "    pro1 = subprocess.run(\"time gzip -c %s > %s\"%(filename,out_file),\n",
    "                           stderr = subprocess.PIPE, \n",
    "                           shell = True)\n",
    "    time_dic[\"gz\"] = pro1.stderr.decode()\n",
    "    \n",
    "    out_file = filename + '_bzip2' + '.bz2'\n",
    "    pro2 = subprocess.run(\"time bzip2 -c -k %s > %s\"%(filename,out_file),\n",
    "                           stderr = subprocess.PIPE, \n",
    "                           shell = True)                     \n",
    "    time_dic[\"bzip2\"] = pro2.stderr.decode()\n",
    "    \n",
    "    out_file = filename + '_pbzip2' + '.bz2'\n",
    "    pro3 = subprocess.run(\"time pbzip2 -c -k %s > %s\"%(filename,out_file),\n",
    "                           stderr = subprocess.PIPE, \n",
    "                           shell = True) \n",
    "    time_dic[\"pbzip2\"] = pro3.stderr.decode()\n",
    "    print(time_dic)\n",
    "    return time_dic"
   ]
  },
  {
   "cell_type": "markdown",
   "metadata": {},
   "source": [
    "## 2. write a for loop to compress binary files."
   ]
  },
  {
   "cell_type": "code",
   "execution_count": 23,
   "metadata": {},
   "outputs": [
    {
     "name": "stdout",
     "output_type": "stream",
     "text": [
      "{'gz': '\\nreal\\t0m3.512s\\nuser\\t0m3.405s\\nsys\\t0m0.104s\\n', 'bzip2': '\\nreal\\t0m13.216s\\nuser\\t0m13.116s\\nsys\\t0m0.096s\\n', 'pbzip2': '\\nreal\\t0m2.109s\\nuser\\t0m26.010s\\nsys\\t0m0.704s\\n'}\n",
      "{'gz': '\\nreal\\t0m4.334s\\nuser\\t0m4.229s\\nsys\\t0m0.104s\\n', 'bzip2': '\\nreal\\t0m12.403s\\nuser\\t0m12.296s\\nsys\\t0m0.104s\\n', 'pbzip2': '\\nreal\\t0m1.966s\\nuser\\t0m24.121s\\nsys\\t0m0.557s\\n'}\n",
      "{'gz': '\\nreal\\t0m7.125s\\nuser\\t0m6.934s\\nsys\\t0m0.072s\\n', 'bzip2': '\\nreal\\t0m11.185s\\nuser\\t0m11.038s\\nsys\\t0m0.076s\\n', 'pbzip2': '\\nreal\\t0m1.612s\\nuser\\t0m20.328s\\nsys\\t0m0.580s\\n'}\n",
      "{'gz': '\\nreal\\t0m17.061s\\nuser\\t0m16.925s\\nsys\\t0m0.132s\\n', 'bzip2': '\\nreal\\t0m10.312s\\nuser\\t0m10.206s\\nsys\\t0m0.104s\\n', 'pbzip2': '\\nreal\\t0m1.425s\\nuser\\t0m17.232s\\nsys\\t0m0.554s\\n'}\n",
      "{'gz': '\\nreal\\t0m26.633s\\nuser\\t0m26.372s\\nsys\\t0m0.068s\\n', 'bzip2': '\\nreal\\t0m9.828s\\nuser\\t0m9.775s\\nsys\\t0m0.052s\\n', 'pbzip2': '\\nreal\\t0m1.201s\\nuser\\t0m14.960s\\nsys\\t0m0.490s\\n'}\n",
      "{'gz': '\\nreal\\t0m0.641s\\nuser\\t0m0.575s\\nsys\\t0m0.028s\\n', 'bzip2': '\\nreal\\t0m0.887s\\nuser\\t0m0.858s\\nsys\\t0m0.028s\\n', 'pbzip2': '\\nreal\\t0m0.164s\\nuser\\t0m1.758s\\nsys\\t0m0.089s\\n'}\n"
     ]
    }
   ],
   "source": [
    "times = []\n",
    "for i in ['zero_0.5','zero_0.6','zero_0.7','zero_0.8','zero_0.9','zero_1.0']:\n",
    "    time = comp_file(i)\n",
    "    times.append(time)\n",
    "    "
   ]
  },
  {
   "cell_type": "markdown",
   "metadata": {},
   "source": [
    "## deal with the output of time command, add real time and user time together\n",
    "\n",
    "Use regular expression"
   ]
  },
  {
   "cell_type": "code",
   "execution_count": 25,
   "metadata": {},
   "outputs": [],
   "source": [
    "import re\n",
    "\n",
    "def find_time(time_str):\n",
    "    ret = re.findall(r\"m(.*)s\",time_str)\n",
    "    return ret[0]\n",
    "\n",
    "for i in times:\n",
    "    time_list = i[\"gz\"].split()\n",
    "    i[\"gz\"] = float(find_time(time_list[1])) + float(find_time(time_list[3]))\n",
    "    time_list = i[\"bzip2\"].split()\n",
    "    i[\"bzip2\"] = float(find_time(time_list[1])) + float(find_time(time_list[3]))\n",
    "    time_list = i[\"pbzip2\"].split()\n",
    "    i[\"pbzip2\"] = float(find_time(time_list[1])) + float(find_time(time_list[3]))"
   ]
  },
  {
   "cell_type": "code",
   "execution_count": 26,
   "metadata": {},
   "outputs": [
    {
     "data": {
      "text/html": [
       "<div>\n",
       "<style scoped>\n",
       "    .dataframe tbody tr th:only-of-type {\n",
       "        vertical-align: middle;\n",
       "    }\n",
       "\n",
       "    .dataframe tbody tr th {\n",
       "        vertical-align: top;\n",
       "    }\n",
       "\n",
       "    .dataframe thead th {\n",
       "        text-align: right;\n",
       "    }\n",
       "</style>\n",
       "<table border=\"1\" class=\"dataframe\">\n",
       "  <thead>\n",
       "    <tr style=\"text-align: right;\">\n",
       "      <th></th>\n",
       "      <th>bzip2</th>\n",
       "      <th>gz</th>\n",
       "      <th>pbzip2</th>\n",
       "    </tr>\n",
       "  </thead>\n",
       "  <tbody>\n",
       "    <tr>\n",
       "      <th>zero0.5</th>\n",
       "      <td>26.332</td>\n",
       "      <td>6.917</td>\n",
       "      <td>28.119</td>\n",
       "    </tr>\n",
       "    <tr>\n",
       "      <th>zero0.6</th>\n",
       "      <td>24.699</td>\n",
       "      <td>8.563</td>\n",
       "      <td>26.087</td>\n",
       "    </tr>\n",
       "    <tr>\n",
       "      <th>zero0.7</th>\n",
       "      <td>22.223</td>\n",
       "      <td>14.059</td>\n",
       "      <td>21.940</td>\n",
       "    </tr>\n",
       "    <tr>\n",
       "      <th>zero0.8</th>\n",
       "      <td>20.518</td>\n",
       "      <td>33.986</td>\n",
       "      <td>18.657</td>\n",
       "    </tr>\n",
       "    <tr>\n",
       "      <th>zero0.9</th>\n",
       "      <td>19.603</td>\n",
       "      <td>53.005</td>\n",
       "      <td>16.161</td>\n",
       "    </tr>\n",
       "    <tr>\n",
       "      <th>zero1.0</th>\n",
       "      <td>1.745</td>\n",
       "      <td>1.216</td>\n",
       "      <td>1.922</td>\n",
       "    </tr>\n",
       "  </tbody>\n",
       "</table>\n",
       "</div>"
      ],
      "text/plain": [
       "          bzip2      gz  pbzip2\n",
       "zero0.5  26.332   6.917  28.119\n",
       "zero0.6  24.699   8.563  26.087\n",
       "zero0.7  22.223  14.059  21.940\n",
       "zero0.8  20.518  33.986  18.657\n",
       "zero0.9  19.603  53.005  16.161\n",
       "zero1.0   1.745   1.216   1.922"
      ]
     },
     "execution_count": 26,
     "metadata": {},
     "output_type": "execute_result"
    }
   ],
   "source": [
    "import pandas as pd\n",
    "\n",
    "pd.DataFrame(times, index = [\"zero0.5\", \"zero0.6\", \"zero0.7\", \"zero0.8\", \"zero0.9\", \"zero1.0\"])"
   ]
  },
  {
   "cell_type": "markdown",
   "metadata": {},
   "source": [
    "### table of compression efficience ( the compression efficience information about random DNA and protein will be in another table in the \"compress real data\" section )"
   ]
  },
  {
   "cell_type": "code",
   "execution_count": 42,
   "metadata": {},
   "outputs": [
    {
     "data": {
      "text/html": [
       "<div>\n",
       "<style scoped>\n",
       "    .dataframe tbody tr th:only-of-type {\n",
       "        vertical-align: middle;\n",
       "    }\n",
       "\n",
       "    .dataframe tbody tr th {\n",
       "        vertical-align: top;\n",
       "    }\n",
       "\n",
       "    .dataframe thead th {\n",
       "        text-align: right;\n",
       "    }\n",
       "</style>\n",
       "<table border=\"1\" class=\"dataframe\">\n",
       "  <thead>\n",
       "    <tr style=\"text-align: right;\">\n",
       "      <th></th>\n",
       "      <th>gz</th>\n",
       "      <th>bzip</th>\n",
       "      <th>pbzip</th>\n",
       "    </tr>\n",
       "  </thead>\n",
       "  <tbody>\n",
       "    <tr>\n",
       "      <th>zero 0.5</th>\n",
       "      <td>100MB</td>\n",
       "      <td>100MB</td>\n",
       "      <td>100MB</td>\n",
       "    </tr>\n",
       "    <tr>\n",
       "      <th>zero 0,6</th>\n",
       "      <td>99.7MB</td>\n",
       "      <td>100MB</td>\n",
       "      <td>100MB</td>\n",
       "    </tr>\n",
       "    <tr>\n",
       "      <th>zero 0.7</th>\n",
       "      <td>89.3MB</td>\n",
       "      <td>95.1MB</td>\n",
       "      <td>95.1MB</td>\n",
       "    </tr>\n",
       "    <tr>\n",
       "      <th>zero 0.8</th>\n",
       "      <td>77.4MB</td>\n",
       "      <td>82.6MB</td>\n",
       "      <td>82.6MB</td>\n",
       "    </tr>\n",
       "    <tr>\n",
       "      <th>zero 0.9</th>\n",
       "      <td>56MB</td>\n",
       "      <td>58.3MB</td>\n",
       "      <td>58.3MB</td>\n",
       "    </tr>\n",
       "    <tr>\n",
       "      <th>zero 1.0</th>\n",
       "      <td>91.7kB</td>\n",
       "      <td>113B</td>\n",
       "      <td>5.38kB</td>\n",
       "    </tr>\n",
       "  </tbody>\n",
       "</table>\n",
       "</div>"
      ],
      "text/plain": [
       "              gz    bzip   pbzip\n",
       "zero 0.5   100MB   100MB   100MB\n",
       "zero 0,6  99.7MB   100MB   100MB\n",
       "zero 0.7  89.3MB  95.1MB  95.1MB\n",
       "zero 0.8  77.4MB  82.6MB  82.6MB\n",
       "zero 0.9    56MB  58.3MB  58.3MB\n",
       "zero 1.0  91.7kB    113B  5.38kB"
      ]
     },
     "execution_count": 42,
     "metadata": {},
     "output_type": "execute_result"
    }
   ],
   "source": [
    "data = {\n",
    "    'gz':['100MB','99.7MB','89.3MB',\"77.4MB\",\"56MB\",'91.7kB'],\n",
    "    'bzip':['100MB','100MB','95.1MB','82.6MB','58.3MB','113B'],\n",
    "    'pbzip':['100MB',\"100MB\",'95.1MB','82.6MB','58.3MB','5.38kB']\n",
    "}\n",
    "pd.DataFrame(data, index = ['zero 0.5', 'zero 0,6', 'zero 0.7', 'zero 0.8', 'zero 0.9', 'zero 1.0'])\n"
   ]
  },
  {
   "cell_type": "code",
   "execution_count": 27,
   "metadata": {
    "scrolled": true
   },
   "outputs": [
    {
     "name": "stdout",
     "output_type": "stream",
     "text": [
      "{'gz': '\\nreal\\t0m23.604s\\nuser\\t0m23.571s\\nsys\\t0m0.032s\\n', 'bzip2': '\\nreal\\t0m9.550s\\nuser\\t0m9.506s\\nsys\\t0m0.044s\\n', 'pbzip2': '\\nreal\\t0m1.099s\\nuser\\t0m14.268s\\nsys\\t0m0.512s\\n'}\n"
     ]
    }
   ],
   "source": [
    "time_nt = comp_file(\"nt_seq.fa\")\n",
    "\n",
    "time_list = time_nt[\"gz\"].split()\n",
    "time_nt[\"gz\"] = float(find_time(time_list[1])) + float(find_time(time_list[3]))\n",
    "time_list = time_nt[\"bzip2\"].split()\n",
    "time_nt[\"bzip2\"] = float(find_time(time_list[1])) + float(find_time(time_list[3]))\n",
    "time_list = time_nt[\"pbzip2\"].split()\n",
    "time_nt[\"pbzip2\"] = float(find_time(time_list[1])) + float(find_time(time_list[3]))"
   ]
  },
  {
   "cell_type": "code",
   "execution_count": 28,
   "metadata": {},
   "outputs": [
    {
     "data": {
      "text/html": [
       "<div>\n",
       "<style scoped>\n",
       "    .dataframe tbody tr th:only-of-type {\n",
       "        vertical-align: middle;\n",
       "    }\n",
       "\n",
       "    .dataframe tbody tr th {\n",
       "        vertical-align: top;\n",
       "    }\n",
       "\n",
       "    .dataframe thead th {\n",
       "        text-align: right;\n",
       "    }\n",
       "</style>\n",
       "<table border=\"1\" class=\"dataframe\">\n",
       "  <thead>\n",
       "    <tr style=\"text-align: right;\">\n",
       "      <th></th>\n",
       "      <th>gz</th>\n",
       "      <th>bzip2</th>\n",
       "      <th>pbzip2</th>\n",
       "    </tr>\n",
       "  </thead>\n",
       "  <tbody>\n",
       "    <tr>\n",
       "      <th>nucleotides</th>\n",
       "      <td>47.175</td>\n",
       "      <td>19.056</td>\n",
       "      <td>15.367</td>\n",
       "    </tr>\n",
       "  </tbody>\n",
       "</table>\n",
       "</div>"
      ],
      "text/plain": [
       "                 gz   bzip2  pbzip2\n",
       "nucleotides  47.175  19.056  15.367"
      ]
     },
     "execution_count": 28,
     "metadata": {},
     "output_type": "execute_result"
    }
   ],
   "source": [
    "pd.DataFrame(time_nt, index = [\"nucleotides\"])"
   ]
  },
  {
   "cell_type": "code",
   "execution_count": 29,
   "metadata": {},
   "outputs": [
    {
     "name": "stdout",
     "output_type": "stream",
     "text": [
      "{'gz': '\\nreal\\t0m4.371s\\nuser\\t0m4.298s\\nsys\\t0m0.072s\\n', 'bzip2': '\\nreal\\t0m9.642s\\nuser\\t0m9.553s\\nsys\\t0m0.088s\\n', 'pbzip2': '\\nreal\\t0m1.171s\\nuser\\t0m14.683s\\nsys\\t0m0.568s\\n'}\n"
     ]
    }
   ],
   "source": [
    "time_pr = comp_file(\"protein_seq.fa\")\n",
    "time_list = time_pr[\"gz\"].split()\n",
    "time_pr[\"gz\"] = float(find_time(time_list[1])) + float(find_time(time_list[3]))\n",
    "time_list = time_pr[\"bzip2\"].split()\n",
    "time_pr[\"bzip2\"] = float(find_time(time_list[1])) + float(find_time(time_list[3]))\n",
    "time_list = time_pr[\"pbzip2\"].split()\n",
    "time_pr[\"pbzip2\"] = float(find_time(time_list[1])) + float(find_time(time_list[3]))"
   ]
  },
  {
   "cell_type": "code",
   "execution_count": 30,
   "metadata": {},
   "outputs": [
    {
     "data": {
      "text/html": [
       "<div>\n",
       "<style scoped>\n",
       "    .dataframe tbody tr th:only-of-type {\n",
       "        vertical-align: middle;\n",
       "    }\n",
       "\n",
       "    .dataframe tbody tr th {\n",
       "        vertical-align: top;\n",
       "    }\n",
       "\n",
       "    .dataframe thead th {\n",
       "        text-align: right;\n",
       "    }\n",
       "</style>\n",
       "<table border=\"1\" class=\"dataframe\">\n",
       "  <thead>\n",
       "    <tr style=\"text-align: right;\">\n",
       "      <th></th>\n",
       "      <th>gz</th>\n",
       "      <th>bzip2</th>\n",
       "      <th>pbzip2</th>\n",
       "    </tr>\n",
       "  </thead>\n",
       "  <tbody>\n",
       "    <tr>\n",
       "      <th>protein</th>\n",
       "      <td>8.669</td>\n",
       "      <td>19.195</td>\n",
       "      <td>15.854</td>\n",
       "    </tr>\n",
       "  </tbody>\n",
       "</table>\n",
       "</div>"
      ],
      "text/plain": [
       "            gz   bzip2  pbzip2\n",
       "protein  8.669  19.195  15.854"
      ]
     },
     "execution_count": 30,
     "metadata": {},
     "output_type": "execute_result"
    }
   ],
   "source": [
    "pd.DataFrame(time_pr, index = [\"protein\"])"
   ]
  },
  {
   "cell_type": "markdown",
   "metadata": {},
   "source": [
    "# Questions\n",
    "\n",
    "### 1. Which algorithm achieves the best level of compression on each file type?\n",
    "\n",
    "    For nucleotide fasta file and protein fasta file, the bzip2 and pbzip2 got the same size compressed file. So they both achieve the best level of compression on these two kinds of files.\n",
    "    \n",
    "    For binary files, when the zero rate is not 100%, gzip's perforance was better then bzip2 and pbzip2. But when the zero rate is 100%, bzip2 achieves the best level of compression.\n",
    "    \n",
    "   \n",
    "### 2. Which algorithm is the fastest?\n",
    "    \n",
    "    For nucleotide fasta file, the fast one is bzip2;\n",
    "    \n",
    "    For protein fasta file, the fast one is gz;\n",
    "    \n",
    "    For binary files, when 0 is 80% and 90%, pbzip2 is the fast;\n",
    "    \n",
    "    When 0 is 50%, %60, 70%, 100%  gz is the fast.\n",
    "    \n",
    "    \n",
    "    \n",
    "\n",
    "### 3. What is the difference between bzip2 and pbzip2? Do you expect one to be faster and why?\n",
    "    \n",
    "    pbzip2 is a parallel implementation of the bzip2 block-sorting file compressor that uses pthreads and achieves near-linear speedup on SMP machines. \n",
    "    \n",
    "    So if I call multiple cores to execute pbzip, I think it will be faster than bzip, but I didn't do so in the previous test.\n",
    "\n",
    "\n",
    "### 4. How does the level of compression change as the percentage of zeros increases? Why does this happen?\n",
    "\n",
    "    When the proportion of zeros gradually increases, the level of compression becomes better. Because we know a sequence with uniformly distribution has the largest Shannon entropy.\n",
    "    \n",
    "    \n",
    "\n",
    "### 5. What is the minimum number of bits required to store a single DNA base?\n",
    "\n",
    "    log2(4) = 2\n",
    "\n",
    "### 6. What is the minimum number of bits requied to store an amina acid letter?\n",
    "\n",
    "    log2(20) = 4.32\n",
    "    Because it must be an integer\n",
    "    \n",
    "\n",
    "### 7. In your tests, how many bits did gzip and bzip2 actually require to store your random DNA and protein sequences?\n",
    "\n",
    "    bzip: 1. DNA.bz2 : 27.3MB\n",
    "          2. Protein.bz2 : 55.3MB\n",
    "      \n",
    "    gzip: 1. DNA.gz :29.2MB\n",
    "          2. Protein.gz : 60.6MB\n",
    "      \n",
    "### 8. Are gzip and bzip2 performing well on DNA and proteins?\n",
    "    \n",
    "    I think neither of them do very well on DNA, Because if the random DNA is encoded in an ideal code (Use exactly 2 bits to store every base), the file size should be 25Mb.\n",
    "    \n",
    "    bzip is performing well on proteins. Because 55.3 Mb is very close to 54Mb(the size of file encoded in ideal code).\n",
    "    gzip performs worse than bzip.\n",
    "    \n",
    "    \n",
    "    \n",
    "\n",
    "\n",
    "\n",
    "\n",
    "\n",
    "    "
   ]
  },
  {
   "cell_type": "markdown",
   "metadata": {},
   "source": [
    "# Compressing the real data\n",
    "\n",
    "## 1. Querying biological databases and download 10 sequences of gp120 (Envelope glycoprotein GP120) from 10 HIV isolates.\n",
    "\n",
    "I got a single multi-FASTA file from NCBI. I named it as \"gp120_HIV_10_isolates.fasta\" and uploaded to my dictionary on the server."
   ]
  },
  {
   "cell_type": "markdown",
   "metadata": {},
   "source": [
    "## 2. Compress the multi-FASTA using gzip and bzip2"
   ]
  },
  {
   "cell_type": "markdown",
   "metadata": {},
   "source": [
    "## Question：In priori, do you expect to abchieve better or worse compression here than random data? Why?\n",
    "\n",
    "    Yes, I expect to a better compression here. Because the 10 sequence in this fasta file are extremly similar to each other, they are homologous. So it can be compressed to a smaller size."
   ]
  },
  {
   "cell_type": "code",
   "execution_count": 31,
   "metadata": {},
   "outputs": [
    {
     "name": "stdout",
     "output_type": "stream",
     "text": [
      "{'gz': '\\nreal\\t0m0.001s\\nuser\\t0m0.001s\\nsys\\t0m0.000s\\n', 'bzip2': '\\nreal\\t0m0.003s\\nuser\\t0m0.002s\\nsys\\t0m0.000s\\n', 'pbzip2': '\\nreal\\t0m0.015s\\nuser\\t0m0.003s\\nsys\\t0m0.000s\\n'}\n"
     ]
    }
   ],
   "source": [
    "time_realdata = comp_file(\"gp120_HIV_10_isolates.fasta\")"
   ]
  },
  {
   "cell_type": "code",
   "execution_count": 32,
   "metadata": {},
   "outputs": [],
   "source": [
    "time_list = time_realdata[\"gz\"].split()\n",
    "time_realdata[\"gz\"] = float(find_time(time_list[1])) + float(find_time(time_list[3]))\n",
    "time_list = time_realdata[\"bzip2\"].split()\n",
    "time_realdata[\"bzip2\"] = float(find_time(time_list[1])) + float(find_time(time_list[3]))\n",
    "time_list = time_realdata[\"pbzip2\"].split()\n",
    "time_realdata[\"pbzip2\"] = float(find_time(time_list[1])) + float(find_time(time_list[3]))"
   ]
  },
  {
   "cell_type": "code",
   "execution_count": 35,
   "metadata": {},
   "outputs": [
    {
     "data": {
      "text/html": [
       "<div>\n",
       "<style scoped>\n",
       "    .dataframe tbody tr th:only-of-type {\n",
       "        vertical-align: middle;\n",
       "    }\n",
       "\n",
       "    .dataframe tbody tr th {\n",
       "        vertical-align: top;\n",
       "    }\n",
       "\n",
       "    .dataframe thead th {\n",
       "        text-align: right;\n",
       "    }\n",
       "</style>\n",
       "<table border=\"1\" class=\"dataframe\">\n",
       "  <thead>\n",
       "    <tr style=\"text-align: right;\">\n",
       "      <th></th>\n",
       "      <th>gz</th>\n",
       "      <th>bzip2</th>\n",
       "      <th>pbzip2</th>\n",
       "    </tr>\n",
       "  </thead>\n",
       "  <tbody>\n",
       "    <tr>\n",
       "      <th>realdata time</th>\n",
       "      <td>0.002</td>\n",
       "      <td>0.005</td>\n",
       "      <td>0.018</td>\n",
       "    </tr>\n",
       "  </tbody>\n",
       "</table>\n",
       "</div>"
      ],
      "text/plain": [
       "                  gz  bzip2  pbzip2\n",
       "realdata time  0.002  0.005   0.018"
      ]
     },
     "execution_count": 35,
     "metadata": {},
     "output_type": "execute_result"
    }
   ],
   "source": [
    "pd.DataFrame(time_realdata, index = [\"realdata time\"])"
   ]
  },
  {
   "cell_type": "markdown",
   "metadata": {},
   "source": [
    "## a table of file size for compression files of  realdata and random sequences files."
   ]
  },
  {
   "cell_type": "code",
   "execution_count": 41,
   "metadata": {},
   "outputs": [
    {
     "data": {
      "text/html": [
       "<div>\n",
       "<style scoped>\n",
       "    .dataframe tbody tr th:only-of-type {\n",
       "        vertical-align: middle;\n",
       "    }\n",
       "\n",
       "    .dataframe tbody tr th {\n",
       "        vertical-align: top;\n",
       "    }\n",
       "\n",
       "    .dataframe thead th {\n",
       "        text-align: right;\n",
       "    }\n",
       "</style>\n",
       "<table border=\"1\" class=\"dataframe\">\n",
       "  <thead>\n",
       "    <tr style=\"text-align: right;\">\n",
       "      <th></th>\n",
       "      <th>random protein</th>\n",
       "      <th>random DNA</th>\n",
       "      <th>real data</th>\n",
       "    </tr>\n",
       "  </thead>\n",
       "  <tbody>\n",
       "    <tr>\n",
       "      <th>Original file</th>\n",
       "      <td>100MB</td>\n",
       "      <td>100MB</td>\n",
       "      <td>5.63KB</td>\n",
       "    </tr>\n",
       "    <tr>\n",
       "      <th>gzip</th>\n",
       "      <td>60.6MB</td>\n",
       "      <td>29.2MB</td>\n",
       "      <td>893B</td>\n",
       "    </tr>\n",
       "    <tr>\n",
       "      <th>gzip ratio</th>\n",
       "      <td>60.6%</td>\n",
       "      <td>29.2%</td>\n",
       "      <td>15.86%</td>\n",
       "    </tr>\n",
       "    <tr>\n",
       "      <th>bzip</th>\n",
       "      <td>55.3MB</td>\n",
       "      <td>27.3MB</td>\n",
       "      <td>1.05KB</td>\n",
       "    </tr>\n",
       "    <tr>\n",
       "      <th>bzip ratio</th>\n",
       "      <td>55.3%</td>\n",
       "      <td>27.3%</td>\n",
       "      <td>18.65%</td>\n",
       "    </tr>\n",
       "    <tr>\n",
       "      <th>pbzip</th>\n",
       "      <td>55.3MB</td>\n",
       "      <td>27.3MB</td>\n",
       "      <td>1.05Kb</td>\n",
       "    </tr>\n",
       "    <tr>\n",
       "      <th>pbzip ratio</th>\n",
       "      <td>55.3%</td>\n",
       "      <td>27.3%</td>\n",
       "      <td>18.65%</td>\n",
       "    </tr>\n",
       "  </tbody>\n",
       "</table>\n",
       "</div>"
      ],
      "text/plain": [
       "              random protein random DNA real data\n",
       "Original file          100MB      100MB    5.63KB\n",
       "gzip                  60.6MB     29.2MB      893B\n",
       "gzip ratio             60.6%      29.2%    15.86%\n",
       "bzip                  55.3MB     27.3MB    1.05KB\n",
       "bzip ratio             55.3%      27.3%    18.65%\n",
       "pbzip                 55.3MB     27.3MB    1.05Kb\n",
       "pbzip ratio            55.3%      27.3%    18.65%"
      ]
     },
     "execution_count": 41,
     "metadata": {},
     "output_type": "execute_result"
    }
   ],
   "source": [
    "filesize = {\n",
    "    'random protein': [\"100MB\", \"60.6MB\",\"60.6%\",\"55.3MB\",\"55.3%\",\"55.3MB\",'55.3%'],\n",
    "    'random DNA': ['100MB','29.2MB','29.2%', '27.3MB','27.3%','27.3MB','27.3%'],\n",
    "    'real data': ['5.63KB','893B','15.86%','1.05KB','18.65%','1.05Kb','18.65%']\n",
    "}\n",
    "pd.DataFrame(filesize, index = [\"Original file\", \"gzip\",\"gzip ratio\", \"bzip\",'bzip ratio',\"pbzip\",'pbzip ratio'])"
   ]
  },
  {
   "cell_type": "markdown",
   "metadata": {},
   "source": [
    "### Question : How does the compression ratio of this file compare to random data?\n",
    "\n",
    "    The compression files of real data is smaller"
   ]
  },
  {
   "cell_type": "markdown",
   "metadata": {},
   "source": [
    "# Estimating compression of 1000 terabytes"
   ]
  },
  {
   "cell_type": "markdown",
   "metadata": {},
   "source": [
    "#### Let’s make some assumptions about the contents of the data at your biotech company. Most of the data, say 80%, is re-sequencing of genomes and plasmids that are very similar to each other. Another 10% might be protein sequences, and the last 10% are binary microscope images which we’ll assume follow the worst-case scenario of being completely random.Given the benchmarking data you obtained in this lab, which algorithm do you propose to use for each type of data? Provide an estimate for the fraction of space you can save using your compression scheme. How much of a bonus do you anticipate receiving this year?"
   ]
  },
  {
   "cell_type": "markdown",
   "metadata": {},
   "source": [
    "1. For those 80% re-sequencing of genomes and plasmids, I want to use gzip, and because these datas are similar to each other, so I assume that the compression ratio will be similar to the compression ratio of the real data in the previous test. It will save 84.14% space. \n",
    "\n",
    "2. For the 10% protein sequences, I want to use bzip2. According to the compression ratio of the random protein sequence in the previous test, I assume it will save 44.7% space.\n",
    "\n",
    "3. For the 10% binary sequence, we will follow the worst-case scenario, it will be completely random. And in the worst condition, the 1 and 0 will be 1:1, then the compression can't save space.\n",
    "\n",
    "    80% * 84.14% = 67.31%\n",
    "    10% * 44.7%  = 4.47%\n",
    "    67.31% + 4.47% = 71.78%\n",
    "    \n",
    "    0.7178 *1000*50 = 35890$\n",
    "    \n"
   ]
  },
  {
   "cell_type": "code",
   "execution_count": null,
   "metadata": {},
   "outputs": [],
   "source": []
  }
 ],
 "metadata": {
  "kernelspec": {
   "display_name": "Python 3",
   "language": "python",
   "name": "python3"
  },
  "language_info": {
   "codemirror_mode": {
    "name": "ipython",
    "version": 3
   },
   "file_extension": ".py",
   "mimetype": "text/x-python",
   "name": "python",
   "nbconvert_exporter": "python",
   "pygments_lexer": "ipython3",
   "version": "3.7.3"
  }
 },
 "nbformat": 4,
 "nbformat_minor": 2
}
